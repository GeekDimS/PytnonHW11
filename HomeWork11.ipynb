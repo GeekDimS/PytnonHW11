{
 "cells": [
  {
   "cell_type": "markdown",
   "metadata": {},
   "source": [
    "\n",
    "Дана функция f(x) = |5x^3| +3x^2 - 6|x| + 8\n",
    "Определить корни\n",
    "Найти интервалы, на которых функция возрастает\n",
    "Найти интервалы, на которых функция убывает\n",
    "Построить график\n",
    "Вычислить вершину\n",
    "Определить промежутки, на котором f > 0\n",
    "Определить промежутки, на котором f < 0"
   ]
  },
  {
   "cell_type": "code",
   "execution_count": 1,
   "metadata": {
    "scrolled": true
   },
   "outputs": [
    {
     "data": {
      "text/latex": [
       "$\\displaystyle 3 x^{2} - 6 \\left|{x}\\right| + 5 \\left|{x^{3}}\\right| + 8$"
      ],
      "text/plain": [
       "3*x**2 - 6*Abs(x) + 5*Abs(x**3) + 8"
      ]
     },
     "execution_count": 1,
     "metadata": {},
     "output_type": "execute_result"
    }
   ],
   "source": [
    "import sympy\n",
    "from sympy import *\n",
    "x = sympy.Symbol('x')\n",
    "a, b, c, d = 5, 3, -6, 8\n",
    "f=abs(a*x**3)+b*x**2+c*abs(x)+8\n",
    "f"
   ]
  },
  {
   "cell_type": "code",
   "execution_count": 3,
   "metadata": {
    "scrolled": false
   },
   "outputs": [
    {
     "data": {
      "image/png": "[encoded data removed]",
      "text/plain": [
       "<Figure size 432x288 with 1 Axes>"
      ]
     },
     "metadata": {
      "needs_background": "light"
     },
     "output_type": "display_data"
    },
    {
     "data": {
      "text/plain": [
       "<sympy.plotting.plot.Plot at 0x9512288>"
      ]
     },
     "execution_count": 3,
     "metadata": {},
     "output_type": "execute_result"
    }
   ],
   "source": [
    "plot(f)#, (x, -1, 1))\n"
   ]
  },
  {
   "cell_type": "markdown",
   "metadata": {},
   "source": [
    "Функция симметрична относительно нуля оси Х, поэтому можно до определённого момента рассматривать только одну половину. Значение функции при х=0 является особой точкой."
   ]
  },
  {
   "cell_type": "code",
   "execution_count": 4,
   "metadata": {},
   "outputs": [],
   "source": [
    "f1=a*x**3+b*x**2+c*x+8\n",
    "interv_f1=Interval(0, +oo)\n",
    "f2=-a*x**3+b*x**2-c*x+8\n",
    "interv_f2=Interval(-oo, 0)"
   ]
  },
  {
   "cell_type": "code",
   "execution_count": 5,
   "metadata": {},
   "outputs": [
    {
     "data": {
      "image/png": "[encoded data removed]",
      "text/plain": [
       "<Figure size 432x288 with 1 Axes>"
      ]
     },
     "metadata": {
      "needs_background": "light"
     },
     "output_type": "display_data"
    },
    {
     "data": {
      "text/plain": [
       "<sympy.plotting.plot.Plot at 0x9734c48>"
      ]
     },
     "execution_count": 5,
     "metadata": {},
     "output_type": "execute_result"
    }
   ],
   "source": [
    "plot(f1, (x, 0, 1))"
   ]
  },
  {
   "cell_type": "code",
   "execution_count": 6,
   "metadata": {},
   "outputs": [
    {
     "data": {
      "text/latex": [
       "$\\displaystyle \\emptyset$"
      ],
      "text/plain": [
       "EmptySet()"
      ]
     },
     "execution_count": 6,
     "metadata": {},
     "output_type": "execute_result"
    }
   ],
   "source": [
    "solveset(f1, x, Interval(0, +oo))"
   ]
  },
  {
   "cell_type": "code",
   "execution_count": 7,
   "metadata": {},
   "outputs": [
    {
     "data": {
      "text/latex": [
       "$\\displaystyle \\emptyset$"
      ],
      "text/plain": [
       "EmptySet()"
      ]
     },
     "execution_count": 7,
     "metadata": {},
     "output_type": "execute_result"
    }
   ],
   "source": [
    "solveset(f2, x, Interval(-oo, 0))"
   ]
  },
  {
   "cell_type": "markdown",
   "metadata": {},
   "source": [
    "Корней у функции не имеется. Возьмём производные обоих половинок исходной функции"
   ]
  },
  {
   "cell_type": "code",
   "execution_count": 8,
   "metadata": {},
   "outputs": [
    {
     "data": {
      "text/latex": [
       "$\\displaystyle 15 x^{2} + 6 x - 6$"
      ],
      "text/plain": [
       "15*x**2 + 6*x - 6"
      ]
     },
     "execution_count": 8,
     "metadata": {},
     "output_type": "execute_result"
    }
   ],
   "source": [
    "F1=sympy.diff(f1, x)\n",
    "F1"
   ]
  },
  {
   "cell_type": "code",
   "execution_count": 9,
   "metadata": {
    "scrolled": true
   },
   "outputs": [
    {
     "data": {
      "text/latex": [
       "$\\displaystyle - 15 x^{2} + 6 x + 6$"
      ],
      "text/plain": [
       "-15*x**2 + 6*x + 6"
      ]
     },
     "execution_count": 9,
     "metadata": {},
     "output_type": "execute_result"
    }
   ],
   "source": [
    "F2=sympy.diff(f2, x)\n",
    "F2"
   ]
  },
  {
   "cell_type": "code",
   "execution_count": 10,
   "metadata": {},
   "outputs": [],
   "source": [
    "root_F1 = solveset(F1, x, Interval(0, +oo))"
   ]
  },
  {
   "cell_type": "code",
   "execution_count": 11,
   "metadata": {},
   "outputs": [
    {
     "data": {
      "text/latex": [
       "$\\displaystyle \\left\\{- \\frac{1}{5} + \\frac{\\sqrt{11}}{5}\\right\\}$"
      ],
      "text/plain": [
       "{-1/5 + sqrt(11)/5}"
      ]
     },
     "execution_count": 11,
     "metadata": {},
     "output_type": "execute_result"
    }
   ],
   "source": [
    "root_F1"
   ]
  },
  {
   "cell_type": "code",
   "execution_count": 12,
   "metadata": {},
   "outputs": [
    {
     "data": {
      "text/latex": [
       "$\\displaystyle \\left\\{0.46332495807108\\right\\}$"
      ],
      "text/plain": [
       "{0.46332495807108}"
      ]
     },
     "execution_count": 12,
     "metadata": {},
     "output_type": "execute_result"
    }
   ],
   "source": [
    "root_F1.evalf()"
   ]
  },
  {
   "cell_type": "code",
   "execution_count": 13,
   "metadata": {},
   "outputs": [],
   "source": [
    "root_F2 = solveset(F2, x, Interval(-oo, 0))"
   ]
  },
  {
   "cell_type": "code",
   "execution_count": 14,
   "metadata": {},
   "outputs": [
    {
     "data": {
      "text/latex": [
       "$\\displaystyle \\left\\{\\frac{1}{5} - \\frac{\\sqrt{11}}{5}\\right\\}$"
      ],
      "text/plain": [
       "{1/5 - sqrt(11)/5}"
      ]
     },
     "execution_count": 14,
     "metadata": {},
     "output_type": "execute_result"
    }
   ],
   "source": [
    "root_F2"
   ]
  },
  {
   "cell_type": "code",
   "execution_count": 15,
   "metadata": {},
   "outputs": [
    {
     "data": {
      "text/latex": [
       "$\\displaystyle \\left\\{-0.46332495807108\\right\\}$"
      ],
      "text/plain": [
       "{-0.46332495807108}"
      ]
     },
     "execution_count": 15,
     "metadata": {},
     "output_type": "execute_result"
    }
   ],
   "source": [
    "root_F2.evalf()"
   ]
  },
  {
   "cell_type": "code",
   "execution_count": 16,
   "metadata": {
    "scrolled": true
   },
   "outputs": [
    {
     "data": {
      "image/png": "[encoded data removed]",
      "text/plain": [
       "<Figure size 432x288 with 1 Axes>"
      ]
     },
     "metadata": {
      "needs_background": "light"
     },
     "output_type": "display_data"
    },
    {
     "data": {
      "text/plain": [
       "<sympy.plotting.plot.Plot at 0x94dafc8>"
      ]
     },
     "execution_count": 16,
     "metadata": {},
     "output_type": "execute_result"
    }
   ],
   "source": [
    "plot(F1, (x, 0, 1))"
   ]
  },
  {
   "cell_type": "code",
   "execution_count": 17,
   "metadata": {},
   "outputs": [
    {
     "name": "stdout",
     "output_type": "stream",
     "text": [
      "Экстремумы исходной функции f(x) находятся в точках:       f({-0.46332495807108})=6.36137018448725 (минимум),/n       f({0.46332495807108})=6.36137018448725 (минимум),/n       и в особой точке f(0)=8 (максимум)\n"
     ]
    }
   ],
   "source": [
    "print(f'Экстремумы исходной функции f(x) находятся в точках:\\\n",
    "       f({root_F2.evalf()})={f.subs(x,root_F2.args[0].evalf())} (минимум),/n\\\n",
    "       f({root_F1.evalf()})={f.subs(x,root_F1.args[0].evalf())} (минимум),/n\\\n",
    "       и в особой точке f(0)={f.subs(x,0)} (максимум)')"
   ]
  },
  {
   "cell_type": "code",
   "execution_count": 18,
   "metadata": {},
   "outputs": [
    {
     "data": {
      "text/plain": [
       "[[-oo, -0.463324958071080],\n",
       " [-0.463324958071080, 0],\n",
       " [0, 0.463324958071080],\n",
       " [0.463324958071080, oo]]"
      ]
     },
     "execution_count": 18,
     "metadata": {},
     "output_type": "execute_result"
    }
   ],
   "source": [
    "intervals_f=[]#интервалы, на которых функция монотонна\n",
    "intervals_f.append([-oo, root_F2.args[0].evalf()])\n",
    "intervals_f.append([root_F2.args[0].evalf(), 0])\n",
    "intervals_f.append([0, root_F1.args[0].evalf()])\n",
    "intervals_f.append([root_F1.args[0].evalf(), +oo])\n",
    "intervals_f\n"
   ]
  },
  {
   "cell_type": "code",
   "execution_count": 19,
   "metadata": {
    "scrolled": true
   },
   "outputs": [
    {
     "name": "stdout",
     "output_type": "stream",
     "text": [
      "На интервале [-oo, -0.463324958071080] функция убывает\n",
      "На интервале [-0.463324958071080, 0] функция возрастает\n",
      "На интервале [0, 0.463324958071080] функция убывает\n",
      "На интервале [0.463324958071080, oo] функция возрастает\n"
     ]
    }
   ],
   "source": [
    "if sympy.is_increasing(f2, Interval(intervals_f[0][0], intervals_f[0][1])):\n",
    "    print(f'На интервале {intervals_f[0]} функция возрастает')\n",
    "else:\n",
    "    print(f'На интервале {intervals_f[0]} функция убывает')\n",
    "\n",
    "if sympy.is_increasing(f2, Interval(intervals_f[1][0], intervals_f[1][1])):\n",
    "    print(f'На интервале {intervals_f[1]} функция возрастает')\n",
    "else:\n",
    "    print(f'На интервале {intervals_f[1]} функция убывает')\n",
    "if sympy.is_increasing(f1, Interval(intervals_f[2][0], intervals_f[2][1])):\n",
    "    print(f'На интервале {intervals_f[2]} функция возрастает')\n",
    "else:\n",
    "    print(f'На интервале {intervals_f[2]} функция убывает')\n",
    "if sympy.is_increasing(f1, Interval(intervals_f[3][0], intervals_f[3][1])):\n",
    "    print(f'На интервале {intervals_f[3]} функция возрастает')\n",
    "else:\n",
    "    print(f'На интервале {intervals_f[3]} функция убывает')"
   ]
  },
  {
   "cell_type": "markdown",
   "metadata": {},
   "source": [
    "Функция положительна на всём интервале определения."
   ]
  }
 ],
 "metadata": {
  "kernelspec": {
   "display_name": "Python 3",
   "language": "python",
   "name": "python3"
  },
  "language_info": {
   "codemirror_mode": {
    "name": "ipython",
    "version": 3
   },
   "file_extension": ".py",
   "mimetype": "text/x-python",
   "name": "python",
   "nbconvert_exporter": "python",
   "pygments_lexer": "ipython3",
   "version": "3.7.4"
  }
 },
 "nbformat": 4,
 "nbformat_minor": 2
}
